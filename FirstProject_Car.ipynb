{
  "nbformat": 4,
  "nbformat_minor": 0,
  "metadata": {
    "colab": {
      "provenance": [],
      "authorship_tag": "ABX9TyOLKhCyT5v+f9pWY8GfZyO+",
      "include_colab_link": true
    },
    "kernelspec": {
      "name": "python3",
      "display_name": "Python 3"
    },
    "language_info": {
      "name": "python"
    }
  },
  "cells": [
    {
      "cell_type": "markdown",
      "metadata": {
        "id": "view-in-github",
        "colab_type": "text"
      },
      "source": [
        "<a href=\"https://colab.research.google.com/github/DaveFlanagan-dev/SampleProject01/blob/main/FirstProject_Car.ipynb\" target=\"_parent\"><img src=\"https://colab.research.google.com/assets/colab-badge.svg\" alt=\"Open In Colab\"/></a>"
      ]
    },
    {
      "cell_type": "code",
      "execution_count": null,
      "metadata": {
        "id": "-SO2E-9UF2Bd"
      },
      "outputs": [],
      "source": [
        "# This i ssome code that was created  in replit that I will demonstrate how to move to Google Collab\n",
        "# and Then connect Collab to github\n",
        "\n",
        "print(\"Hello\")"
      ]
    }
  ]
}